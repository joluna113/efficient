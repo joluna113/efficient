{
 "cells": [
  {
   "cell_type": "markdown",
   "source": [
    "# Classes and Functions in OOP"
   ],
   "metadata": {
    "collapsed": false
   },
   "id": "b0dd05ccee54d3b8"
  },
  {
   "cell_type": "markdown",
   "source": [
    "Design-First Development\n",
    "An alternative plan is design-first development, which involves more planning\n",
    "before prototyping. In a design-first process, sometimes a high-level insight into the\n",
    "problem makes the programming much easier."
   ],
   "metadata": {
    "collapsed": false
   },
   "id": "1009050fbc184245"
  },
  {
   "cell_type": "code",
   "execution_count": 2,
   "id": "initial_id",
   "metadata": {
    "collapsed": true,
    "ExecuteTime": {
     "end_time": "2025-01-13T08:28:01.068575Z",
     "start_time": "2025-01-13T08:28:01.063475Z"
    }
   },
   "outputs": [],
   "source": [
    "class Time:\n",
    "    \"\"\"Represents a time of day\"\"\"\n",
    "    def __init__(self, hour, minute, second):\n",
    "        \"Initiation the hours\"\n",
    "        self.hour = hour\n",
    "        self.minute = minute\n",
    "        self.second = second\n",
    "        \n",
    "    def time_to_inti(self) -> float:\n",
    "        minutes = self.hour * 60 + self.minute\n",
    "        seconds = minutes * 60 + self.second\n",
    "        return seconds \n",
    "    "
   ]
  },
  {
   "cell_type": "code",
   "outputs": [
    {
     "data": {
      "text/plain": "1812"
     },
     "execution_count": 7,
     "metadata": {},
     "output_type": "execute_result"
    }
   ],
   "source": [
    "time = Time(1,30,12)\n",
    "time.time_to_inti()"
   ],
   "metadata": {
    "collapsed": false,
    "ExecuteTime": {
     "end_time": "2025-01-13T08:28:51.267785Z",
     "start_time": "2025-01-13T08:28:51.263114Z"
    }
   },
   "id": "3382823c5a6302b",
   "execution_count": 7
  },
  {
   "cell_type": "markdown",
   "source": [
    "### Static Methods\n",
    "We can solve this chicken-and-egg problem using a static method, which is a method\n",
    "that does not require an instance of the class to be invoked\n",
    "Because it is a static method, it does not have self as a parameter. To invoke it, we\n",
    "use Time, which is the class object:"
   ],
   "metadata": {
    "collapsed": false
   },
   "id": "e85c0abf9ded8b7d"
  },
  {
   "cell_type": "markdown",
   "source": [],
   "metadata": {
    "collapsed": false
   },
   "id": "bc20516e46c24dd"
  },
  {
   "cell_type": "code",
   "outputs": [],
   "source": [
    "# creating instances\n",
    "\n"
   ],
   "metadata": {
    "collapsed": false
   },
   "id": "5c0bb09003903cba"
  }
 ],
 "metadata": {
  "kernelspec": {
   "display_name": "Python 3",
   "language": "python",
   "name": "python3"
  },
  "language_info": {
   "codemirror_mode": {
    "name": "ipython",
    "version": 2
   },
   "file_extension": ".py",
   "mimetype": "text/x-python",
   "name": "python",
   "nbconvert_exporter": "python",
   "pygments_lexer": "ipython2",
   "version": "2.7.6"
  }
 },
 "nbformat": 4,
 "nbformat_minor": 5
}
