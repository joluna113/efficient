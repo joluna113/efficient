{
 "cells": [
  {
   "cell_type": "code",
   "execution_count": 1,
   "id": "initial_id",
   "metadata": {
    "collapsed": true,
    "ExecuteTime": {
     "end_time": "2025-01-12T23:47:49.367723Z",
     "start_time": "2025-01-12T23:47:49.359581Z"
    }
   },
   "outputs": [],
   "source": [
    "import collections\n",
    "import math\n",
    "import jupyturtle"
   ]
  },
  {
   "cell_type": "markdown",
   "source": [
    "## Unpacking"
   ],
   "metadata": {
    "collapsed": false
   },
   "id": "57df3119a2676cd5"
  },
  {
   "cell_type": "code",
   "outputs": [
    {
     "data": {
      "text/plain": "(2, 0)"
     },
     "execution_count": 2,
     "metadata": {},
     "output_type": "execute_result"
    }
   ],
   "source": [
    "lax_cordinates = (33.5, -118.98)\n",
    "lattutude, longigituded = lax_cordinates\n",
    "\n",
    "t = (20, 10)\n",
    "quotient, reminder = divmod(*t)\n",
    "quotient, reminder"
   ],
   "metadata": {
    "collapsed": false,
    "ExecuteTime": {
     "end_time": "2025-01-12T23:47:49.374759Z",
     "start_time": "2025-01-12T23:47:49.370075Z"
    }
   },
   "id": "aae893e98c66af53",
   "execution_count": 2
  },
  {
   "cell_type": "markdown",
   "source": [],
   "metadata": {
    "collapsed": false
   },
   "id": "e30dad1a0d1dd614"
  },
  {
   "cell_type": "markdown",
   "source": [
    "When you create a variable inside a function, it is local, which means that it only\n",
    "exists inside the function."
   ],
   "metadata": {
    "collapsed": false
   },
   "id": "4299fe2847805911"
  },
  {
   "cell_type": "code",
   "outputs": [],
   "source": [
    "name = 'print'\n",
    "def print_name(par1: str, par2: str) -> str:\n",
    "    return par1 + par2"
   ],
   "metadata": {
    "collapsed": false,
    "ExecuteTime": {
     "end_time": "2025-01-12T23:47:49.380033Z",
     "start_time": "2025-01-12T23:47:49.376770Z"
    }
   },
   "id": "42497e802718d2f3",
   "execution_count": 3
  },
  {
   "cell_type": "code",
   "outputs": [],
   "source": [
    "def test_try(txt: str) -> None:\n",
    "     spaces = (40 - len(txt) ) \n",
    "     if spaces < 0:\n",
    "         print(txt)\n",
    "     else:\n",
    "         print(spaces * \" \" + txt)"
   ],
   "metadata": {
    "collapsed": false,
    "ExecuteTime": {
     "end_time": "2025-01-12T23:47:49.384045Z",
     "start_time": "2025-01-12T23:47:49.381411Z"
    }
   },
   "id": "d389f864ff7ed35e",
   "execution_count": 4
  },
  {
   "cell_type": "code",
   "outputs": [
    {
     "name": "stdout",
     "output_type": "stream",
     "text": [
      "                                    Jose\n"
     ]
    }
   ],
   "source": [
    "test_try(\"Jose\")"
   ],
   "metadata": {
    "collapsed": false,
    "ExecuteTime": {
     "end_time": "2025-01-12T23:47:49.390702Z",
     "start_time": "2025-01-12T23:47:49.387115Z"
    }
   },
   "id": "709885b667e75cce",
   "execution_count": 5
  },
  {
   "cell_type": "markdown",
   "source": [],
   "metadata": {
    "collapsed": false
   },
   "id": "94167bf88df82a8c"
  },
  {
   "cell_type": "code",
   "outputs": [],
   "source": [
    "def triangle_test(txt: str, num: int) -> None:\n",
    "    if num <= 0:\n",
    "        print(\"Needs more than 0\") \n",
    "    else:\n",
    "        for i in range(num + 1):\n",
    "            print(i * txt)"
   ],
   "metadata": {
    "collapsed": false,
    "ExecuteTime": {
     "end_time": "2025-01-12T23:47:49.395718Z",
     "start_time": "2025-01-12T23:47:49.392020Z"
    }
   },
   "id": "b4765e5854b3c39d",
   "execution_count": 6
  },
  {
   "cell_type": "code",
   "outputs": [],
   "source": [],
   "metadata": {
    "collapsed": false,
    "ExecuteTime": {
     "end_time": "2025-01-12T23:47:49.398696Z",
     "start_time": "2025-01-12T23:47:49.397283Z"
    }
   },
   "id": "6d4719ee9d250b2",
   "execution_count": 6
  },
  {
   "cell_type": "code",
   "outputs": [
    {
     "name": "stdout",
     "output_type": "stream",
     "text": [
      "\n",
      "L\n",
      "LL\n",
      "LLL\n",
      "LLLL\n",
      "LLLLL\n"
     ]
    }
   ],
   "source": [
    "triangle_test(\"L\", 5)"
   ],
   "metadata": {
    "collapsed": false,
    "ExecuteTime": {
     "end_time": "2025-01-12T23:47:49.403607Z",
     "start_time": "2025-01-12T23:47:49.399908Z"
    }
   },
   "id": "dfb6608006e0af69",
   "execution_count": 7
  },
  {
   "cell_type": "code",
   "outputs": [],
   "source": [],
   "metadata": {
    "collapsed": false,
    "ExecuteTime": {
     "end_time": "2025-01-12T23:47:49.411549Z",
     "start_time": "2025-01-12T23:47:49.408502Z"
    }
   },
   "id": "3363c0179f7355bc",
   "execution_count": 7
  },
  {
   "cell_type": "code",
   "outputs": [],
   "source": [
    "# Recursion\n",
    "def countdown(n: int) -> None:\n",
    "    if n <= 0:\n",
    "        print(\"Time is off\")\n",
    "    else:\n",
    "        print(n)\n",
    "        countdown(n -1)"
   ],
   "metadata": {
    "collapsed": false,
    "ExecuteTime": {
     "end_time": "2025-01-12T23:47:49.420580Z",
     "start_time": "2025-01-12T23:47:49.418785Z"
    }
   },
   "id": "ec2fe86c611bbea8",
   "execution_count": 8
  },
  {
   "cell_type": "code",
   "outputs": [
    {
     "name": "stdout",
     "output_type": "stream",
     "text": [
      "10\n",
      "9\n",
      "8\n",
      "7\n",
      "6\n",
      "5\n",
      "4\n",
      "3\n",
      "2\n",
      "1\n",
      "Time is off\n"
     ]
    }
   ],
   "source": [
    "countdown(10)"
   ],
   "metadata": {
    "collapsed": false,
    "ExecuteTime": {
     "end_time": "2025-01-12T23:47:49.426753Z",
     "start_time": "2025-01-12T23:47:49.424481Z"
    }
   },
   "id": "1013e84108d60ae3",
   "execution_count": 9
  },
  {
   "cell_type": "markdown",
   "source": [
    "To deal with increasingly complex programs, you might want to try incremental\n",
    "development, which is a way of adding and testing only a small amount of code at\n",
    "a time."
   ],
   "metadata": {
    "collapsed": false
   },
   "id": "59dd38a54aac5b2e"
  },
  {
   "cell_type": "code",
   "outputs": [],
   "source": [
    "def distance(x1: int, x2: int, y1: int, y2: int) -> float:\n",
    "    return math.sqrt((x1 - x2) ** 2 + (y1 - y2)**2)"
   ],
   "metadata": {
    "collapsed": false,
    "ExecuteTime": {
     "end_time": "2025-01-12T23:47:49.437503Z",
     "start_time": "2025-01-12T23:47:49.434535Z"
    }
   },
   "id": "64daa49d081943a4",
   "execution_count": 10
  },
  {
   "cell_type": "code",
   "outputs": [
    {
     "data": {
      "text/plain": "5.0"
     },
     "execution_count": 11,
     "metadata": {},
     "output_type": "execute_result"
    }
   ],
   "source": [
    "distance(1, 4, 2, 6)"
   ],
   "metadata": {
    "collapsed": false,
    "ExecuteTime": {
     "end_time": "2025-01-12T23:47:49.483196Z",
     "start_time": "2025-01-12T23:47:49.479824Z"
    }
   },
   "id": "5a1c8af8f7a1dbfe",
   "execution_count": 11
  },
  {
   "cell_type": "code",
   "outputs": [
    {
     "data": {
      "text/plain": "True"
     },
     "execution_count": 12,
     "metadata": {},
     "output_type": "execute_result"
    }
   ],
   "source": [
    "def is_divisible(num1: int, num2: int) -> bool:\n",
    "    if num1 % num2 == 0:\n",
    "        return True\n",
    "    else:\n",
    "        return False\n",
    "is_divisible(3,3)"
   ],
   "metadata": {
    "collapsed": false,
    "ExecuteTime": {
     "end_time": "2025-01-12T23:47:49.488861Z",
     "start_time": "2025-01-12T23:47:49.485324Z"
    }
   },
   "id": "963469b73a514ce3",
   "execution_count": 12
  },
  {
   "cell_type": "code",
   "outputs": [],
   "source": [
    "def factorial(num: int) -> int:\n",
    "    \n",
    "    if num <= 0 :\n",
    "        return 1\n",
    "    else:\n",
    "        return num * factorial(num - 1)\n",
    "        "
   ],
   "metadata": {
    "collapsed": false,
    "ExecuteTime": {
     "end_time": "2025-01-12T23:47:49.503161Z",
     "start_time": "2025-01-12T23:47:49.499777Z"
    }
   },
   "id": "adc2fa6c01aa79c5",
   "execution_count": 13
  },
  {
   "cell_type": "code",
   "outputs": [],
   "source": [
    "# We can use isinstace to check if a parameter is int or string"
   ],
   "metadata": {
    "collapsed": false,
    "ExecuteTime": {
     "end_time": "2025-01-12T23:47:49.525535Z",
     "start_time": "2025-01-12T23:47:49.523545Z"
    }
   },
   "id": "c99229e1cf369c79",
   "execution_count": 14
  },
  {
   "cell_type": "code",
   "outputs": [],
   "source": [
    "def fibonacci(n):\n",
    "    if n == 0:\n",
    "        return 0\n",
    "    elif n == 1:\n",
    "        return 1\n",
    "    else:\n",
    "        return fibonacci(n-1) + fibonacci(n-2)"
   ],
   "metadata": {
    "collapsed": false,
    "ExecuteTime": {
     "end_time": "2025-01-12T23:47:49.529403Z",
     "start_time": "2025-01-12T23:47:49.526834Z"
    }
   },
   "id": "87a0807c5181f8fb",
   "execution_count": 15
  },
  {
   "cell_type": "code",
   "outputs": [
    {
     "data": {
      "text/plain": "55"
     },
     "execution_count": 16,
     "metadata": {},
     "output_type": "execute_result"
    }
   ],
   "source": [
    "fibonacci(10)"
   ],
   "metadata": {
    "collapsed": false,
    "ExecuteTime": {
     "end_time": "2025-01-12T23:47:49.533368Z",
     "start_time": "2025-01-12T23:47:49.530544Z"
    }
   },
   "id": "ffc70bf946dfddb1",
   "execution_count": 16
  },
  {
   "cell_type": "markdown",
   "source": [
    "This is teaching the basics of programming. Like how to do simple manipulations>\n",
    "por que siento que no se nada entonces si lo que estoy revizando es alho que ya se. Vuelvo y bluevo otra vez a revisar lo mismo. Pero cuando hago un projecto no se nada\n",
    "por que sera. sineto que nunca lo termino y cuanod no puedo o on o entiendo lo dejo y empiezo con otra cosa\n",
    "\n",
    "\n",
    "ta deberai de saver todo esto y como hacer basic operations pero por que no me atrevo a hacer cosas mas grandes. Mis coworkers saben mas que yo. Pero que hacen ellos que no pueda hacer yo. Si es de program gis enotnces es lo aprender GIS. Pero que typo de nalysis entonces hace. Como lo hacern, cuando lo hacen. \n",
    "\n",
    "por que diho que me gusta data sience. Me ha gustado preguintar por que. Pero en realidad soy bueno o noadamas creo que soy bueno. \n",
    "\n",
    "Yo me hago istorias que soy un data scientsit que se mucho pero no se nada ni si quiera ser program ni siquiera se estadistica y ni matematicas no me acuerdo de nada. Nada\n",
    "Y no he tenido algo en donde lo pude aplicar siento que me havcce falta algo \n",
    "\n",
    "Expereincia donde yo tenga el poder o crear algo \n",
    "Para que me siver el resultado "
   ],
   "metadata": {
    "collapsed": false
   },
   "id": "e80d786d67fdd0cb"
  },
  {
   "cell_type": "code",
   "outputs": [
    {
     "data": {
      "text/plain": "{'b': 1, 'r': 2, 'o': 2, 'n': 1, 't': 1, 's': 2, 'a': 7, 'u': 2}"
     },
     "execution_count": 22,
     "metadata": {},
     "output_type": "execute_result"
    }
   ],
   "source": [
    "# In general, the time it takes to find an element in a list is proportional to the length of\n",
    "# the list. The time it takes to find a key in a dictionary is almost constant—regardless\n",
    "# of the number of items:\n",
    "\n",
    "def letter_finding(sentence: list) -> dict:\n",
    "    counter = {}\n",
    "    for word in sentence:\n",
    "        if word in counter:\n",
    "            counter[word] += 1\n",
    "        else:\n",
    "            counter[word] = 1\n",
    "    return counter\n",
    "counter = letter_finding('brontosaurusaaaaaa')\n",
    "counter"
   ],
   "metadata": {
    "collapsed": false,
    "ExecuteTime": {
     "end_time": "2025-01-12T23:48:40.531777Z",
     "start_time": "2025-01-12T23:48:40.528506Z"
    }
   },
   "id": "1417487c4b28f4c7",
   "execution_count": 22
  },
  {
   "cell_type": "markdown",
   "source": [
    "have to be hashable.\n",
    "A hash is a function that takes a value (of any kind) and returns an integer. Dictionaries\n",
    "use these integers, called hash values, to store and look up keys.\n",
    "This system only works if a key is immutable, so its hash value is always the same. But\n",
    "if a key is mutable, its hash value could change, and the dictionary would not work"
   ],
   "metadata": {
    "collapsed": false
   },
   "id": "e9d6e6746bd8fc2d"
  },
  {
   "cell_type": "markdown",
   "source": [],
   "metadata": {
    "collapsed": false
   },
   "id": "88cb7b61992ea94a"
  },
  {
   "cell_type": "code",
   "outputs": [],
   "source": [
    "# creating Tuples\n",
    "# Tuples are inmutable meaning that they cant change values\n",
    "# The number of variables on the left and the number of values on the right have to be\n",
    "# the same—otherwise you get a ValueError:\n",
    "\n",
    "# Tuples dont neeed reasignment"
   ],
   "metadata": {
    "collapsed": false
   },
   "id": "9309fb1db096a650"
  },
  {
   "cell_type": "code",
   "outputs": [
    {
     "data": {
      "text/plain": "6"
     },
     "execution_count": 25,
     "metadata": {},
     "output_type": "execute_result"
    }
   ],
   "source": [
    "tup_exa = 1,2,3\n",
    "type(tup_exa)\n",
    "sum(tup_exa)\n"
   ],
   "metadata": {
    "collapsed": false,
    "ExecuteTime": {
     "end_time": "2025-01-13T00:25:15.819941Z",
     "start_time": "2025-01-13T00:25:15.817055Z"
    }
   },
   "id": "11fa2b01f8481ef5",
   "execution_count": 25
  },
  {
   "cell_type": "code",
   "outputs": [],
   "source": [
    "# If you have a sequence of values and you want to pass them to a function as multiple\n",
    "# arguments, you can use the * operator to unpack the tuple"
   ],
   "metadata": {
    "collapsed": false
   },
   "id": "6e031faa5efafa6d"
  },
  {
   "cell_type": "code",
   "outputs": [],
   "source": [
    "# unpacking arguments, you can use the * operator to unpack the tuple.\n",
    "\n",
    "def mean(*args):\n",
    "    # print(type(*args))\n",
    "    # print(*args)\n",
    "    # print(f'----{args}')\n",
    "    return sum(args) / len(args)\n",
    "\n",
    "def min_max(t):\n",
    "    return min(t), max(t)\n",
    "\n",
    "def trimmed_mean(*args):\n",
    "    low, high = min_max(args)\n",
    "    trimmed = list(args)\n",
    "    trimmed.remove(low)\n",
    "    trimmed.remove(high)"
   ],
   "metadata": {
    "collapsed": false,
    "ExecuteTime": {
     "end_time": "2025-01-13T00:43:55.930653Z",
     "start_time": "2025-01-13T00:43:55.926065Z"
    }
   },
   "id": "e5fa78f23afe2a25",
   "execution_count": 39
  },
  {
   "cell_type": "code",
   "outputs": [
    {
     "data": {
      "text/plain": "2.0"
     },
     "execution_count": 40,
     "metadata": {},
     "output_type": "execute_result"
    }
   ],
   "source": [
    "\n",
    "mean(1,2,3)"
   ],
   "metadata": {
    "collapsed": false,
    "ExecuteTime": {
     "end_time": "2025-01-13T00:43:57.819401Z",
     "start_time": "2025-01-13T00:43:57.815111Z"
    }
   },
   "id": "dc27996104078dfa",
   "execution_count": 40
  },
  {
   "cell_type": "code",
   "outputs": [
    {
     "name": "stdout",
     "output_type": "stream",
     "text": [
      "/Users/joseluna/Python_Course\n"
     ]
    }
   ],
   "source": [
    "import os\n",
    "print(os.getcwd())"
   ],
   "metadata": {
    "collapsed": false,
    "ExecuteTime": {
     "end_time": "2025-01-13T00:44:07.242007Z",
     "start_time": "2025-01-13T00:44:07.237455Z"
    }
   },
   "id": "2e59471d12789b9",
   "execution_count": 41
  },
  {
   "cell_type": "markdown",
   "source": [
    "A simple filename like 'memo.txt' is also considered a path, but it is a relative path\n",
    "because it specifies a filename relative to the current directory.\n",
    "\n",
    "A path that begins with / does not depend on the current directory—it is called an\n",
    "absolute path. To find the absolute path to a file, you can use abspath:"
   ],
   "metadata": {
    "collapsed": false
   },
   "id": "8de25a5517d5df49"
  },
  {
   "cell_type": "code",
   "outputs": [
    {
     "data": {
      "text/plain": "True"
     },
     "execution_count": 45,
     "metadata": {},
     "output_type": "execute_result"
    }
   ],
   "source": [
    "os.path.exists('Typles.ipynb')"
   ],
   "metadata": {
    "collapsed": false,
    "ExecuteTime": {
     "end_time": "2025-01-13T00:46:47.521254Z",
     "start_time": "2025-01-13T00:46:47.518724Z"
    }
   },
   "id": "ac67e6baeb775508",
   "execution_count": 45
  },
  {
   "cell_type": "markdown",
   "source": [
    "One of the reasons programs read and write files is to store configuration data,\n",
    "which is information that specifies what the program should do, and how.\n",
    "The yaml module provides functions to work with YAML files, which are text files\n",
    "formatted to be easy for humans and programs to read and write."
   ],
   "metadata": {
    "collapsed": false
   },
   "id": "89dcce416b761976"
  },
  {
   "cell_type": "code",
   "outputs": [],
   "source": [
    "import yaml\n",
    "import hashlib\n",
    "\n",
    "\n",
    "# The hashlib module provides several hash functions—the one we’ll use is called md5.\n",
    "# We’ll start by using hashlib.md5 to create a HASH object:"
   ],
   "metadata": {
    "collapsed": false
   },
   "id": "6103afbf9369f1dc"
  }
 ],
 "metadata": {
  "kernelspec": {
   "display_name": "Python 3",
   "language": "python",
   "name": "python3"
  },
  "language_info": {
   "codemirror_mode": {
    "name": "ipython",
    "version": 2
   },
   "file_extension": ".py",
   "mimetype": "text/x-python",
   "name": "python",
   "nbconvert_exporter": "python",
   "pygments_lexer": "ipython2",
   "version": "2.7.6"
  }
 },
 "nbformat": 4,
 "nbformat_minor": 5
}
